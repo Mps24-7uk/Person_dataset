{
 "cells": [
  {
   "cell_type": "code",
   "execution_count": null,
   "id": "89728064",
   "metadata": {},
   "outputs": [],
   "source": [
    "import os\n",
    "import pandas as pd\n",
    "import json\n",
    "\n",
    "df = pd.DataFrame()\n",
    "\n",
    "filepath='./labels/bdd100k_labels_images_train.json'\n",
    "jsfile = json.loads(open(filepath).read())\n",
    "\n",
    "for js in jsfile:  \n",
    "    for label_point  in  js['labels']:\n",
    "        if label_point['category']=='person' :\n",
    "\n",
    "            df=df.append({'label':label_point['category'],'name':js['name'],\n",
    "            'xmin':label_point['box2d']['x1'],'ymin':label_point['box2d']['y1'], \n",
    "            'xmax':label_point['box2d']['x2'],'ymax':label_point['box2d']['y2']\n",
    "            }, ignore_index=True)\n",
    "            \n",
    "    \n",
    "\n",
    "df.to_csv('./cax_bdd100k_train.csv', index=False)"
   ]
  },
  {
   "cell_type": "code",
   "execution_count": 49,
   "id": "8beed4fa",
   "metadata": {},
   "outputs": [],
   "source": [
    "import shutil\n",
    "import pandas as pd\n",
    "df_train = pd.read_csv(\"cax_bdd100k_val.csv\")\n",
    "for name in list(set(df_train[\"name\"])):\n",
    "    shutil.copy2(\"images/100k/val/\"+name, \"person_dataset/val/\"+name)"
   ]
  },
  {
   "cell_type": "code",
   "execution_count": 48,
   "id": "78de2efb",
   "metadata": {},
   "outputs": [
    {
     "ename": "KeyboardInterrupt",
     "evalue": "",
     "output_type": "error",
     "traceback": [
      "\u001b[1;31m---------------------------------------------------------------------------\u001b[0m",
      "\u001b[1;31mKeyboardInterrupt\u001b[0m                         Traceback (most recent call last)",
      "\u001b[1;32m~\\AppData\\Local\\Temp/ipykernel_2540/1488613587.py\u001b[0m in \u001b[0;36m<module>\u001b[1;34m\u001b[0m\n\u001b[0;32m     10\u001b[0m \u001b[1;33m\u001b[0m\u001b[0m\n\u001b[0;32m     11\u001b[0m     \u001b[0mcv2\u001b[0m\u001b[1;33m.\u001b[0m\u001b[0mimshow\u001b[0m\u001b[1;33m(\u001b[0m\u001b[1;34m\"img\"\u001b[0m\u001b[1;33m,\u001b[0m\u001b[0mimage\u001b[0m\u001b[1;33m)\u001b[0m\u001b[1;33m\u001b[0m\u001b[1;33m\u001b[0m\u001b[0m\n\u001b[1;32m---> 12\u001b[1;33m     \u001b[0mcv2\u001b[0m\u001b[1;33m.\u001b[0m\u001b[0mwaitKey\u001b[0m\u001b[1;33m(\u001b[0m\u001b[1;36m0\u001b[0m\u001b[1;33m)\u001b[0m\u001b[1;33m\u001b[0m\u001b[1;33m\u001b[0m\u001b[0m\n\u001b[0m\u001b[0;32m     13\u001b[0m \u001b[0mcv2\u001b[0m\u001b[1;33m.\u001b[0m\u001b[0mdestroyAllWindows\u001b[0m\u001b[1;33m(\u001b[0m\u001b[1;33m)\u001b[0m\u001b[1;33m\u001b[0m\u001b[1;33m\u001b[0m\u001b[0m\n",
      "\u001b[1;31mKeyboardInterrupt\u001b[0m: "
     ]
    }
   ],
   "source": [
    "import cv2\n",
    "from glob import glob \n",
    "for img_name in glob(\"person_dataset/train/*\"):\n",
    "    image = cv2.imread(img_name)\n",
    "    \n",
    "    #print(img_name.split(\"\\\\\")[1])\n",
    "    aa= img_name.split(\"\\\\\")[1]\n",
    "   # print(aa)\n",
    "    for i in df_train.loc[df_train[\"name\"]==aa,:].values:\n",
    "        \n",
    "        cv2.rectangle(image,(int(i[2]),int(i[3])),(int(i[4]),int(i[5])),[0,0,255],2)\n",
    "        \n",
    "    cv2.imshow(\"img\",image)\n",
    "    cv2.waitKey(0)\n",
    "cv2.destroyAllWindows()"
   ]
  },
  {
   "cell_type": "code",
   "execution_count": 52,
   "id": "482c2b29",
   "metadata": {},
   "outputs": [],
   "source": [
    "import pandas as pd\n",
    "df_train = pd.read_csv(\"cax_bdd100k_train.csv\")"
   ]
  },
  {
   "cell_type": "code",
   "execution_count": 55,
   "id": "0ef1b5d9",
   "metadata": {},
   "outputs": [],
   "source": [
    "df_train[\"xmin\"] = df_train[\"xmin\"].apply(lambda x:int(x))\n",
    "df_train[\"xmax\"] = df_train[\"xmax\"].apply(lambda x:int(x))\n",
    "df_train[\"ymin\"] = df_train[\"ymin\"].apply(lambda x:int(x))\n",
    "df_train[\"ymax\"] = df_train[\"ymax\"].apply(lambda x:int(x))"
   ]
  },
  {
   "cell_type": "code",
   "execution_count": 59,
   "id": "34ae3737",
   "metadata": {},
   "outputs": [],
   "source": [
    "df_train[\"name\"] = df_train[\"name\"].apply(lambda x: \"./person_dataset/train/\"+str(x))"
   ]
  },
  {
   "cell_type": "code",
   "execution_count": 66,
   "id": "a9c93bdd",
   "metadata": {},
   "outputs": [],
   "source": [
    "df_train.loc[:,[\"name\",\"xmin\",\"ymin\",\"xmax\",\"ymax\",\"label\"]].to_csv(\"Retina_bdd100k_train.csv\",index= False,header =None)"
   ]
  },
  {
   "cell_type": "code",
   "execution_count": 70,
   "id": "f2ea6c57",
   "metadata": {},
   "outputs": [
    {
     "data": {
      "text/html": [
       "<div>\n",
       "<style scoped>\n",
       "    .dataframe tbody tr th:only-of-type {\n",
       "        vertical-align: middle;\n",
       "    }\n",
       "\n",
       "    .dataframe tbody tr th {\n",
       "        vertical-align: top;\n",
       "    }\n",
       "\n",
       "    .dataframe thead th {\n",
       "        text-align: right;\n",
       "    }\n",
       "</style>\n",
       "<table border=\"1\" class=\"dataframe\">\n",
       "  <thead>\n",
       "    <tr style=\"text-align: right;\">\n",
       "      <th></th>\n",
       "      <th>label</th>\n",
       "      <th>name</th>\n",
       "      <th>xmin</th>\n",
       "      <th>ymin</th>\n",
       "      <th>xmax</th>\n",
       "      <th>ymax</th>\n",
       "    </tr>\n",
       "  </thead>\n",
       "  <tbody>\n",
       "    <tr>\n",
       "      <th>78181</th>\n",
       "      <td>person</td>\n",
       "      <td>./person_dataset/train/997bc41e-0b3b46f8.jpg</td>\n",
       "      <td>713</td>\n",
       "      <td>30</td>\n",
       "      <td>718</td>\n",
       "      <td>30</td>\n",
       "    </tr>\n",
       "  </tbody>\n",
       "</table>\n",
       "</div>"
      ],
      "text/plain": [
       "        label                                          name  xmin  ymin  xmax  \\\n",
       "78181  person  ./person_dataset/train/997bc41e-0b3b46f8.jpg   713    30   718   \n",
       "\n",
       "       ymax  \n",
       "78181    30  "
      ]
     },
     "execution_count": 70,
     "metadata": {},
     "output_type": "execute_result"
    }
   ],
   "source": [
    "df_train.loc[df_train[\"ymin\"] ==df_train[\"ymax\"],:]"
   ]
  },
  {
   "cell_type": "code",
   "execution_count": null,
   "id": "895711ae",
   "metadata": {},
   "outputs": [],
   "source": []
  }
 ],
 "metadata": {
  "kernelspec": {
   "display_name": "Python 3 (ipykernel)",
   "language": "python",
   "name": "python3"
  },
  "language_info": {
   "codemirror_mode": {
    "name": "ipython",
    "version": 3
   },
   "file_extension": ".py",
   "mimetype": "text/x-python",
   "name": "python",
   "nbconvert_exporter": "python",
   "pygments_lexer": "ipython3",
   "version": "3.8.11"
  }
 },
 "nbformat": 4,
 "nbformat_minor": 5
}
